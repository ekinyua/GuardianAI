{
  "nbformat": 4,
  "nbformat_minor": 0,
  "metadata": {
    "colab": {
      "provenance": []
    },
    "kernelspec": {
      "name": "python3",
      "display_name": "Python 3"
    },
    "language_info": {
      "name": "python"
    }
  },
  "cells": [
    {
      "cell_type": "code",
      "execution_count": 1,
      "metadata": {
        "colab": {
          "base_uri": "https://localhost:8080/"
        },
        "id": "r0K7ZNuKNwY-",
        "outputId": "b24cdfad-c38b-44ad-ea4e-f42d7aa21376"
      },
      "outputs": [
        {
          "output_type": "stream",
          "name": "stdout",
          "text": [
            "Dummy dataset generated and saved to 'dummy_data.csv'.\n"
          ]
        }
      ],
      "source": [
        "import pandas as pd\n",
        "import numpy as np\n",
        "from datetime import datetime, timedelta\n",
        "import random\n",
        "\n",
        "# Number of records\n",
        "num_records = 40000\n",
        "num_users = 10\n",
        "\n",
        "# Generate user_ids\n",
        "user_ids = [f'user_{i+1}' for i in range(num_users)]\n",
        "\n",
        "# Function to generate random timestamps\n",
        "def generate_random_timestamps(start, end, n):\n",
        "    start_u = start.timestamp()\n",
        "    end_u = end.timestamp()\n",
        "    return [datetime.fromtimestamp(random.uniform(start_u, end_u)) for _ in range(n)]\n",
        "\n",
        "# Generate data\n",
        "data = []\n",
        "start_date = datetime(2023, 1, 1)\n",
        "end_date = datetime(2023, 12, 31)\n",
        "\n",
        "for _ in range(num_records):\n",
        "    user_id = random.choice(user_ids)\n",
        "    timestamp = random.choice(generate_random_timestamps(start_date, end_date, 1))\n",
        "    location_change = random.randint(0, 1)\n",
        "    call_duration = random.randint(0, 600)  # Call duration between 0 and 10 minutes\n",
        "    message_count = random.randint(0, 20)  # Number of messages between 0 and 20\n",
        "    anomaly = random.choices([0, 1], weights=[0.95, 0.05])[0]  # 5% of records are anomalies\n",
        "\n",
        "    data.append([user_id, timestamp, location_change, call_duration, message_count, anomaly])\n",
        "\n",
        "# Create DataFrame\n",
        "columns = ['user_id', 'timestamp', 'location_change', 'call_duration', 'message_count', 'anomaly']\n",
        "df = pd.DataFrame(data, columns=columns)\n",
        "\n",
        "# Save to CSV\n",
        "df.to_csv('dummy_data.csv', index=False)\n",
        "\n",
        "print(\"Dummy dataset generated and saved to 'dummy_data.csv'.\")\n"
      ]
    },
    {
      "cell_type": "code",
      "source": [
        "import pandas as pd\n",
        "from sklearn.model_selection import train_test_split\n",
        "\n",
        "# Load the dataset\n",
        "df = pd.read_csv('dummy_data.csv')\n",
        "\n",
        "# Convert timestamp to datetime\n",
        "df['timestamp'] = pd.to_datetime(df['timestamp'])\n",
        "\n",
        "# Drop any rows with missing values (if any)\n",
        "df.dropna(inplace=True)\n",
        "\n",
        "# Split data into features and labels\n",
        "X = df[['user_id', 'timestamp', 'location_change', 'call_duration', 'message_count']]\n",
        "y = df['anomaly']\n"
      ],
      "metadata": {
        "id": "qix2ubjPOMIs"
      },
      "execution_count": 2,
      "outputs": []
    },
    {
      "cell_type": "code",
      "source": [
        "from sklearn.preprocessing import LabelEncoder, StandardScaler\n",
        "\n",
        "# Encode user_id\n",
        "label_encoder = LabelEncoder()\n",
        "X['user_id'] = label_encoder.fit_transform(X['user_id'])\n",
        "\n",
        "# Extract time-based features\n",
        "X['hour'] = X['timestamp'].dt.hour\n",
        "X['day_of_week'] = X['timestamp'].dt.dayofweek\n",
        "\n",
        "# Drop the original timestamp column\n",
        "X.drop('timestamp', axis=1, inplace=True)\n",
        "\n",
        "# Scale the features\n",
        "scaler = StandardScaler()\n",
        "X_scaled = scaler.fit_transform(X)\n"
      ],
      "metadata": {
        "colab": {
          "base_uri": "https://localhost:8080/"
        },
        "id": "W845jZuwOcyP",
        "outputId": "5143903f-87f2-4221-c4ab-8e289f63eecf"
      },
      "execution_count": 3,
      "outputs": [
        {
          "output_type": "stream",
          "name": "stderr",
          "text": [
            "<ipython-input-3-49633a22264c>:5: SettingWithCopyWarning: \n",
            "A value is trying to be set on a copy of a slice from a DataFrame.\n",
            "Try using .loc[row_indexer,col_indexer] = value instead\n",
            "\n",
            "See the caveats in the documentation: https://pandas.pydata.org/pandas-docs/stable/user_guide/indexing.html#returning-a-view-versus-a-copy\n",
            "  X['user_id'] = label_encoder.fit_transform(X['user_id'])\n"
          ]
        }
      ]
    },
    {
      "cell_type": "code",
      "source": [
        "from sklearn.ensemble import IsolationForest\n",
        "\n",
        "# Initialize the model\n",
        "model = IsolationForest(contamination=0.05)\n",
        "\n",
        "# Train the model\n",
        "model.fit(X_scaled)\n"
      ],
      "metadata": {
        "colab": {
          "base_uri": "https://localhost:8080/",
          "height": 75
        },
        "id": "xaqtFubmOf31",
        "outputId": "d916580c-bed8-41c0-c6f5-5bcda363c76e"
      },
      "execution_count": 4,
      "outputs": [
        {
          "output_type": "execute_result",
          "data": {
            "text/plain": [
              "IsolationForest(contamination=0.05)"
            ],
            "text/html": [
              "<style>#sk-container-id-1 {color: black;background-color: white;}#sk-container-id-1 pre{padding: 0;}#sk-container-id-1 div.sk-toggleable {background-color: white;}#sk-container-id-1 label.sk-toggleable__label {cursor: pointer;display: block;width: 100%;margin-bottom: 0;padding: 0.3em;box-sizing: border-box;text-align: center;}#sk-container-id-1 label.sk-toggleable__label-arrow:before {content: \"▸\";float: left;margin-right: 0.25em;color: #696969;}#sk-container-id-1 label.sk-toggleable__label-arrow:hover:before {color: black;}#sk-container-id-1 div.sk-estimator:hover label.sk-toggleable__label-arrow:before {color: black;}#sk-container-id-1 div.sk-toggleable__content {max-height: 0;max-width: 0;overflow: hidden;text-align: left;background-color: #f0f8ff;}#sk-container-id-1 div.sk-toggleable__content pre {margin: 0.2em;color: black;border-radius: 0.25em;background-color: #f0f8ff;}#sk-container-id-1 input.sk-toggleable__control:checked~div.sk-toggleable__content {max-height: 200px;max-width: 100%;overflow: auto;}#sk-container-id-1 input.sk-toggleable__control:checked~label.sk-toggleable__label-arrow:before {content: \"▾\";}#sk-container-id-1 div.sk-estimator input.sk-toggleable__control:checked~label.sk-toggleable__label {background-color: #d4ebff;}#sk-container-id-1 div.sk-label input.sk-toggleable__control:checked~label.sk-toggleable__label {background-color: #d4ebff;}#sk-container-id-1 input.sk-hidden--visually {border: 0;clip: rect(1px 1px 1px 1px);clip: rect(1px, 1px, 1px, 1px);height: 1px;margin: -1px;overflow: hidden;padding: 0;position: absolute;width: 1px;}#sk-container-id-1 div.sk-estimator {font-family: monospace;background-color: #f0f8ff;border: 1px dotted black;border-radius: 0.25em;box-sizing: border-box;margin-bottom: 0.5em;}#sk-container-id-1 div.sk-estimator:hover {background-color: #d4ebff;}#sk-container-id-1 div.sk-parallel-item::after {content: \"\";width: 100%;border-bottom: 1px solid gray;flex-grow: 1;}#sk-container-id-1 div.sk-label:hover label.sk-toggleable__label {background-color: #d4ebff;}#sk-container-id-1 div.sk-serial::before {content: \"\";position: absolute;border-left: 1px solid gray;box-sizing: border-box;top: 0;bottom: 0;left: 50%;z-index: 0;}#sk-container-id-1 div.sk-serial {display: flex;flex-direction: column;align-items: center;background-color: white;padding-right: 0.2em;padding-left: 0.2em;position: relative;}#sk-container-id-1 div.sk-item {position: relative;z-index: 1;}#sk-container-id-1 div.sk-parallel {display: flex;align-items: stretch;justify-content: center;background-color: white;position: relative;}#sk-container-id-1 div.sk-item::before, #sk-container-id-1 div.sk-parallel-item::before {content: \"\";position: absolute;border-left: 1px solid gray;box-sizing: border-box;top: 0;bottom: 0;left: 50%;z-index: -1;}#sk-container-id-1 div.sk-parallel-item {display: flex;flex-direction: column;z-index: 1;position: relative;background-color: white;}#sk-container-id-1 div.sk-parallel-item:first-child::after {align-self: flex-end;width: 50%;}#sk-container-id-1 div.sk-parallel-item:last-child::after {align-self: flex-start;width: 50%;}#sk-container-id-1 div.sk-parallel-item:only-child::after {width: 0;}#sk-container-id-1 div.sk-dashed-wrapped {border: 1px dashed gray;margin: 0 0.4em 0.5em 0.4em;box-sizing: border-box;padding-bottom: 0.4em;background-color: white;}#sk-container-id-1 div.sk-label label {font-family: monospace;font-weight: bold;display: inline-block;line-height: 1.2em;}#sk-container-id-1 div.sk-label-container {text-align: center;}#sk-container-id-1 div.sk-container {/* jupyter's `normalize.less` sets `[hidden] { display: none; }` but bootstrap.min.css set `[hidden] { display: none !important; }` so we also need the `!important` here to be able to override the default hidden behavior on the sphinx rendered scikit-learn.org. See: https://github.com/scikit-learn/scikit-learn/issues/21755 */display: inline-block !important;position: relative;}#sk-container-id-1 div.sk-text-repr-fallback {display: none;}</style><div id=\"sk-container-id-1\" class=\"sk-top-container\"><div class=\"sk-text-repr-fallback\"><pre>IsolationForest(contamination=0.05)</pre><b>In a Jupyter environment, please rerun this cell to show the HTML representation or trust the notebook. <br />On GitHub, the HTML representation is unable to render, please try loading this page with nbviewer.org.</b></div><div class=\"sk-container\" hidden><div class=\"sk-item\"><div class=\"sk-estimator sk-toggleable\"><input class=\"sk-toggleable__control sk-hidden--visually\" id=\"sk-estimator-id-1\" type=\"checkbox\" checked><label for=\"sk-estimator-id-1\" class=\"sk-toggleable__label sk-toggleable__label-arrow\">IsolationForest</label><div class=\"sk-toggleable__content\"><pre>IsolationForest(contamination=0.05)</pre></div></div></div></div></div>"
            ]
          },
          "metadata": {},
          "execution_count": 4
        }
      ]
    },
    {
      "cell_type": "code",
      "source": [
        "# Predict anomalies on the training data\n",
        "y_pred = model.predict(X_scaled)\n",
        "\n",
        "# Convert predictions from -1 (anomaly) and 1 (normal) to 1 (anomaly) and 0 (normal)\n",
        "y_pred = [1 if p == -1 else 0 for p in y_pred]\n",
        "\n",
        "# Evaluate the model\n",
        "from sklearn.metrics import classification_report, confusion_matrix\n",
        "\n",
        "print(classification_report(y, y_pred))\n",
        "print(confusion_matrix(y, y_pred))\n"
      ],
      "metadata": {
        "colab": {
          "base_uri": "https://localhost:8080/"
        },
        "id": "nc8jMtuPOj6O",
        "outputId": "3fb0fdd1-e390-4cec-9c22-2d594e0a8780"
      },
      "execution_count": 5,
      "outputs": [
        {
          "output_type": "stream",
          "name": "stdout",
          "text": [
            "              precision    recall  f1-score   support\n",
            "\n",
            "           0       0.95      0.95      0.95     37993\n",
            "           1       0.05      0.05      0.05      2007\n",
            "\n",
            "    accuracy                           0.91     40000\n",
            "   macro avg       0.50      0.50      0.50     40000\n",
            "weighted avg       0.90      0.91      0.90     40000\n",
            "\n",
            "[[36097  1896]\n",
            " [ 1903   104]]\n"
          ]
        }
      ]
    },
    {
      "cell_type": "code",
      "source": [
        "import pandas as pd\n",
        "import numpy as np\n",
        "from sklearn.preprocessing import LabelEncoder, StandardScaler\n",
        "from sklearn.ensemble import IsolationForest\n",
        "from sklearn.metrics import classification_report, confusion_matrix, accuracy_score\n",
        "from sklearn.model_selection import train_test_split, cross_val_score, GridSearchCV\n",
        "\n",
        "# Load the dataset\n",
        "df = pd.read_csv('dummy_data.csv')\n",
        "\n",
        "# Convert timestamp to datetime\n",
        "df['timestamp'] = pd.to_datetime(df['timestamp'])\n",
        "\n",
        "# Drop any rows with missing values (if any)\n",
        "df.dropna(inplace=True)\n",
        "\n",
        "# Split data into features and labels\n",
        "X = df[['user_id', 'timestamp', 'location_change', 'call_duration', 'message_count']]\n",
        "y = df['anomaly']\n",
        "\n",
        "# Encode user_id\n",
        "label_encoder = LabelEncoder()\n",
        "X['user_id'] = label_encoder.fit_transform(X['user_id'])\n",
        "\n",
        "# Extract time-based features\n",
        "X['hour'] = X['timestamp'].dt.hour\n",
        "X['day_of_week'] = X['timestamp'].dt.dayofweek\n",
        "\n",
        "# Drop the original timestamp column\n",
        "X.drop('timestamp', axis=1, inplace=True)\n",
        "\n",
        "# Scale the features\n",
        "scaler = StandardScaler()\n",
        "X_scaled = scaler.fit_transform(X)\n",
        "\n",
        "# Split data into training and testing sets\n",
        "X_train, X_test, y_train, y_test = train_test_split(X_scaled, y, test_size=0.2, random_state=42)\n",
        "\n",
        "# Initialize the model\n",
        "model = IsolationForest(contamination=0.05, random_state=42)\n",
        "\n",
        "# Train the model\n",
        "model.fit(X_train)\n",
        "\n",
        "# Predict anomalies on the test data\n",
        "y_pred = model.predict(X_test)\n",
        "\n",
        "# Convert predictions from -1 (anomaly) and 1 (normal) to 1 (anomaly) and 0 (normal)\n",
        "y_pred = [1 if p == -1 else 0 for p in y_pred]\n",
        "\n",
        "# Evaluate the model\n",
        "print(\"Classification Report:\")\n",
        "print(classification_report(y_test, y_pred))\n",
        "print(\"Confusion Matrix:\")\n",
        "print(confusion_matrix(y_test, y_pred))\n",
        "accuracy = accuracy_score(y_test, y_pred)\n",
        "print(f\"Accuracy: {accuracy:.2f}\")\n",
        "\n",
        "# Cross-validation\n",
        "scores = cross_val_score(model, X_scaled, y, cv=5, scoring='accuracy')\n",
        "print(f\"Cross-Validation Accuracy: {np.mean(scores):.2f} (+/- {np.std(scores):.2f})\")\n",
        "\n",
        "# Hyperparameter tuning using GridSearchCV\n",
        "param_grid = {\n",
        "    'n_estimators': [100, 200, 300],\n",
        "    'max_samples': ['auto', 0.5, 0.75],\n",
        "    'contamination': [0.01, 0.05, 0.1],\n",
        "    'max_features': [1.0, 0.5, 0.75],\n",
        "}\n",
        "\n",
        "grid_search = GridSearchCV(IsolationForest(random_state=42), param_grid, cv=5, scoring='accuracy')\n",
        "grid_search.fit(X_scaled, y)\n",
        "\n",
        "print(\"Best Parameters:\")\n",
        "print(grid_search.best_params_)\n",
        "\n",
        "# Train the best model\n",
        "best_model = grid_search.best_estimator_\n",
        "best_model.fit(X_train)\n",
        "\n",
        "# Predict using the best model\n",
        "y_best_pred = best_model.predict(X_test)\n",
        "y_best_pred = [1 if p == -1 else 0 for p in y_best_pred]\n",
        "\n",
        "# Evaluate the best model\n",
        "print(\"Best Model Classification Report:\")\n",
        "print(classification_report(y_test, y_best_pred))\n",
        "print(\"Best Model Confusion Matrix:\")\n",
        "print(confusion_matrix(y_test, y_best_pred))\n",
        "best_accuracy = accuracy_score(y_test, y_best_pred)\n",
        "print(f\"Best Model Accuracy: {best_accuracy:.2f}\")\n"
      ],
      "metadata": {
        "colab": {
          "base_uri": "https://localhost:8080/"
        },
        "id": "2B6q-DBlQKf1",
        "outputId": "c1b0acac-ecc2-4c60-970a-6e2aa9f79a3b"
      },
      "execution_count": 6,
      "outputs": [
        {
          "metadata": {
            "tags": null
          },
          "name": "stderr",
          "output_type": "stream",
          "text": [
            "<ipython-input-6-76cf562e1ff1>:23: SettingWithCopyWarning: \n",
            "A value is trying to be set on a copy of a slice from a DataFrame.\n",
            "Try using .loc[row_indexer,col_indexer] = value instead\n",
            "\n",
            "See the caveats in the documentation: https://pandas.pydata.org/pandas-docs/stable/user_guide/indexing.html#returning-a-view-versus-a-copy\n",
            "  X['user_id'] = label_encoder.fit_transform(X['user_id'])\n"
          ]
        },
        {
          "output_type": "stream",
          "name": "stdout",
          "text": [
            "Classification Report:\n",
            "              precision    recall  f1-score   support\n",
            "\n",
            "           0       0.95      0.95      0.95      7618\n",
            "           1       0.07      0.07      0.07       382\n",
            "\n",
            "    accuracy                           0.91      8000\n",
            "   macro avg       0.51      0.51      0.51      8000\n",
            "weighted avg       0.91      0.91      0.91      8000\n",
            "\n",
            "Confusion Matrix:\n",
            "[[7216  402]\n",
            " [ 354   28]]\n",
            "Accuracy: 0.91\n",
            "Cross-Validation Accuracy: 0.05 (+/- 0.00)\n",
            "Best Parameters:\n",
            "{'contamination': 0.01, 'max_features': 1.0, 'max_samples': 'auto', 'n_estimators': 200}\n",
            "Best Model Classification Report:\n",
            "              precision    recall  f1-score   support\n",
            "\n",
            "           0       0.95      0.99      0.97      7618\n",
            "           1       0.07      0.02      0.03       382\n",
            "\n",
            "    accuracy                           0.94      8000\n",
            "   macro avg       0.51      0.50      0.50      8000\n",
            "weighted avg       0.91      0.94      0.93      8000\n",
            "\n",
            "Best Model Confusion Matrix:\n",
            "[[7535   83]\n",
            " [ 376    6]]\n",
            "Best Model Accuracy: 0.94\n"
          ]
        }
      ]
    }
  ]
}